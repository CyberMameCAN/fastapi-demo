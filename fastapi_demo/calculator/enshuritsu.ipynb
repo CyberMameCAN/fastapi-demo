{
 "cells": [
  {
   "cell_type": "code",
   "execution_count": 3,
   "id": "6239f849-3ad8-4320-8f5a-5e2985f0aeec",
   "metadata": {},
   "outputs": [],
   "source": [
    "import numpy as np\n",
    "import pandas as pd\n",
    "from tqdm.notebook import tqdm"
   ]
  },
  {
   "cell_type": "markdown",
   "id": "24b1e989-5966-4041-8ffc-db0929a43202",
   "metadata": {},
   "source": [
    "## グレゴリー級数"
   ]
  },
  {
   "cell_type": "code",
   "execution_count": 10,
   "id": "a9493434-4391-4272-8bb0-cd2869f7746b",
   "metadata": {},
   "outputs": [],
   "source": [
    "def gregory_progression(end=1000):\n",
    "    phi = 0\n",
    "    isTurnOver = True\n",
    "\n",
    "    for i in range(1, end, 2):\n",
    "        if isTurnOver:\n",
    "            g = 4 * 1 / i\n",
    "        else:\n",
    "            g = -1 * 4 * 1 / i\n",
    "        phi += g\n",
    "\n",
    "        isTurnOver = not isTurnOver\n",
    "\n",
    "        if i > end*0.99: # 後ろの方だけ出力確認\n",
    "            print(i, 'π=', phi)"
   ]
  },
  {
   "cell_type": "code",
   "execution_count": 11,
   "id": "a1ae384c-9dcf-4142-9397-3ca00d7cad00",
   "metadata": {},
   "outputs": [
    {
     "name": "stdout",
     "output_type": "stream",
     "text": [
      "1981 π= 3.1426017350685425\n",
      "1983 π= 3.140584589329763\n",
      "1985 π= 3.1425997026798886\n",
      "1987 π= 3.140586617627045\n",
      "1989 π= 3.142597678461635\n",
      "1991 π= 3.1405886377785612\n",
      "1993 π= 3.1425956623646125\n",
      "1995 π= 3.140590649833284\n",
      "1997 π= 3.142593654340044\n",
      "1999 π= 3.140592653839794\n"
     ]
    }
   ],
   "source": [
    "gregory_progression(2000)"
   ]
  },
  {
   "cell_type": "markdown",
   "id": "78046b69-ba88-40bf-832d-679c9d1aeccb",
   "metadata": {},
   "source": [
    "## モンテカルロ法"
   ]
  },
  {
   "cell_type": "code",
   "execution_count": 14,
   "id": "447f5453-98de-48ba-b199-1459b31de853",
   "metadata": {},
   "outputs": [],
   "source": [
    "def montecarlo_method(count=100):\n",
    "    bR = .5 # 半径\n",
    "    sS = 0  # 四角のプロット数 \n",
    "    cS = 0  # 円のプロット数\n",
    "\n",
    "    np.random.seed(0) # 乱数を固定\n",
    "    ps = np.random.uniform(-1*bR, bR, (count, 2))\n",
    "    x = ps[:, 0]\n",
    "    y = ps[:, 1]\n",
    "    r0 = np.sqrt(x**2 + y**2) # ランダムにプロットした点\n",
    "    for r in r0:\n",
    "        if bR > r:\n",
    "            cS += 1; # 円の中\n",
    "        sS += 1;     # 四角形の中\n",
    "\n",
    "    print('π=', 4. * cS / sS)\n",
    "\n",
    "    return 4. * cS / sS"
   ]
  },
  {
   "cell_type": "code",
   "execution_count": 15,
   "id": "905a514b-3525-4137-aa00-a67e86b9886b",
   "metadata": {},
   "outputs": [
    {
     "name": "stdout",
     "output_type": "stream",
     "text": [
      "π= 3.064\n"
     ]
    },
    {
     "data": {
      "text/plain": [
       "3.064"
      ]
     },
     "execution_count": 15,
     "metadata": {},
     "output_type": "execute_result"
    }
   ],
   "source": [
    "montecarlo_method(500)"
   ]
  },
  {
   "cell_type": "code",
   "execution_count": null,
   "id": "8776610a-fcee-4c81-8187-953ca9d9b5e4",
   "metadata": {},
   "outputs": [],
   "source": []
  }
 ],
 "metadata": {
  "kernelspec": {
   "display_name": "Python 3 (ipykernel)",
   "language": "python",
   "name": "python3"
  },
  "language_info": {
   "codemirror_mode": {
    "name": "ipython",
    "version": 3
   },
   "file_extension": ".py",
   "mimetype": "text/x-python",
   "name": "python",
   "nbconvert_exporter": "python",
   "pygments_lexer": "ipython3",
   "version": "3.10.4"
  }
 },
 "nbformat": 4,
 "nbformat_minor": 5
}
